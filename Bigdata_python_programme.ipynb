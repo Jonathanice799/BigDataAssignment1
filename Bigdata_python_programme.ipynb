{
 "cells": [
  {
   "cell_type": "code",
   "execution_count": 7,
   "id": "1f35add9",
   "metadata": {},
   "outputs": [
    {
     "name": "stdout",
     "output_type": "stream",
     "text": [
      "Please Enter a string and a positive integer: \"This is nice\", 3\n",
      "\"This is nice\"\n",
      "\"This is nice\"\n",
      "\"This is nice\"\n"
     ]
    }
   ],
   "source": [
    "# this program asks a string: a and a integer: b, then prints a for b times \n",
    "a, b = input('Please Enter a string and a positive integer: ').split(\",\")\n",
    "for i in range(int(b)):\n",
    "    print(a)"
   ]
  }
 ],
 "metadata": {
  "kernelspec": {
   "display_name": "Python 3",
   "language": "python",
   "name": "python3"
  },
  "language_info": {
   "codemirror_mode": {
    "name": "ipython",
    "version": 3
   },
   "file_extension": ".py",
   "mimetype": "text/x-python",
   "name": "python",
   "nbconvert_exporter": "python",
   "pygments_lexer": "ipython3",
   "version": "3.8.8"
  }
 },
 "nbformat": 4,
 "nbformat_minor": 5
}
